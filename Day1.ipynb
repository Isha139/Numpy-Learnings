{
 "cells": [
  {
   "cell_type": "code",
   "execution_count": 2,
   "id": "e02d41b6-b4ed-49fa-ab7d-42b2b66f62d3",
   "metadata": {},
   "outputs": [],
   "source": [
    "import numpy as np"
   ]
  },
  {
   "cell_type": "code",
   "execution_count": 3,
   "id": "5d6f89fa-d612-42e4-9610-f44270e044f0",
   "metadata": {},
   "outputs": [
    {
     "name": "stdout",
     "output_type": "stream",
     "text": [
      "[1, 2, 3, 4, 5]\n"
     ]
    }
   ],
   "source": [
    "lst = [1, 2, 3, 4, 5]\n",
    "print(lst)"
   ]
  },
  {
   "cell_type": "markdown",
   "id": "e941635f-adc5-4937-9b10-2d9f32adbc07",
   "metadata": {},
   "source": [
    "Advatnages of Numpy Array over Lists"
   ]
  },
  {
   "cell_type": "code",
   "execution_count": 11,
   "id": "7da1967b-575e-47f4-a69b-28d7b3b50d4f",
   "metadata": {},
   "outputs": [
    {
     "name": "stdout",
     "output_type": "stream",
     "text": [
      "1D Array\n",
      "[1 2 3 4 5]\n",
      "2D Array\n",
      "[[ 1  2  3  4  5]\n",
      " [ 6  7  8  9 10]]\n",
      "3D Array\n",
      "[[[ 1  2  3  4  5]\n",
      "  [ 6  7  8  9 10]\n",
      "  [11 12 13 14 15]]]\n"
     ]
    }
   ],
   "source": [
    "print(\"1D Array\")\n",
    "a = np.array([1, 2, 3, 4, 5])\n",
    "print(a)\n",
    "\n",
    "#---------\n",
    "\n",
    "print(\"2D Array\")\n",
    "b = np.array([[1, 2,3, 4, 5],\n",
    "            [6, 7, 8, 9, 10]])\n",
    "print(b)\n",
    "\n",
    "#----------\n",
    "print(\"3D Array\")\n",
    "c = np.array([[[1, 2, 3, 4, 5],\n",
    "             [ 6, 7, 8, 9, 10],\n",
    "             [11, 12, 13, 14, 15]]])\n",
    "print(c)"
   ]
  },
  {
   "cell_type": "code",
   "execution_count": 12,
   "id": "6d8be69b-2ecb-4b53-8230-760b6e750903",
   "metadata": {},
   "outputs": [
    {
     "data": {
      "text/plain": [
       "numpy.ndarray"
      ]
     },
     "execution_count": 12,
     "metadata": {},
     "output_type": "execute_result"
    }
   ],
   "source": [
    "type(a)"
   ]
  },
  {
   "cell_type": "markdown",
   "id": "12463646-da82-4568-828b-7c22546bb7eb",
   "metadata": {},
   "source": [
    "size = Tells abput no. of elements in that array"
   ]
  },
  {
   "cell_type": "code",
   "execution_count": 16,
   "id": "cd8848e1-e893-416e-9511-39371da46153",
   "metadata": {},
   "outputs": [
    {
     "name": "stdout",
     "output_type": "stream",
     "text": [
      "5\n",
      "10\n",
      "15\n"
     ]
    }
   ],
   "source": [
    "print(a.size)\n",
    "print(b.size)\n",
    "print(c.size)"
   ]
  },
  {
   "cell_type": "markdown",
   "id": "b3521015-dadc-4f4f-96e3-b4b4ecd52a7d",
   "metadata": {},
   "source": [
    "shape = (rows, cols)"
   ]
  },
  {
   "cell_type": "code",
   "execution_count": 18,
   "id": "2cffe7bf-6005-437f-9b76-7bec98f1f8e1",
   "metadata": {},
   "outputs": [
    {
     "name": "stdout",
     "output_type": "stream",
     "text": [
      "(5,)\n",
      "(2, 5)\n",
      "(1, 3, 5)\n"
     ]
    }
   ],
   "source": [
    "print(a.shape)\n",
    "print(b.shape)\n",
    "print(c.shape)"
   ]
  },
  {
   "cell_type": "markdown",
   "id": "ce5eac77-4c8c-4ab8-a21e-9c7c443ebdab",
   "metadata": {},
   "source": [
    "dtype = Type of Data Present in the array"
   ]
  },
  {
   "cell_type": "code",
   "execution_count": 19,
   "id": "4f979cad-5597-41a9-812d-d6353b5221cb",
   "metadata": {},
   "outputs": [
    {
     "name": "stdout",
     "output_type": "stream",
     "text": [
      "int32\n",
      "int32\n",
      "int32\n"
     ]
    }
   ],
   "source": [
    "print(a.dtype)\n",
    "print(b.dtype)\n",
    "print(c.dtype)"
   ]
  },
  {
   "cell_type": "code",
   "execution_count": 27,
   "id": "8c34dcac-0c3d-4656-aa4b-c7e58c85c863",
   "metadata": {},
   "outputs": [
    {
     "name": "stdout",
     "output_type": "stream",
     "text": [
      "float64\n"
     ]
    }
   ],
   "source": [
    "#Another datatype\n",
    "d = np.array([[1, 2, 3, 4.2, 5],\n",
    "              [6, 7, 8.9, 9, 10],\n",
    "              [11, 12, 13, 14, 15]])\n",
    "print(d.dtype)\n"
   ]
  },
  {
   "cell_type": "markdown",
   "id": "fb1f2fe7-feb8-4c55-962f-0c90bf28e600",
   "metadata": {},
   "source": [
    "arr.transpose()"
   ]
  },
  {
   "cell_type": "code",
   "execution_count": 28,
   "id": "e4e1242f-e5f9-4a11-ab64-f93f39e6075f",
   "metadata": {},
   "outputs": [
    {
     "data": {
      "text/plain": [
       "array([[ 1. ,  6. , 11. ],\n",
       "       [ 2. ,  7. , 12. ],\n",
       "       [ 3. ,  8.9, 13. ],\n",
       "       [ 4.2,  9. , 14. ],\n",
       "       [ 5. , 10. , 15. ]])"
      ]
     },
     "execution_count": 28,
     "metadata": {},
     "output_type": "execute_result"
    }
   ],
   "source": [
    "d.transpose()"
   ]
  },
  {
   "cell_type": "markdown",
   "id": "3eaee3e2-4a45-4524-b6f4-964e889632d1",
   "metadata": {},
   "source": [
    "np.empty((rows, cols), dtype)"
   ]
  },
  {
   "cell_type": "code",
   "execution_count": 32,
   "id": "22866760-060e-4865-b5d1-76f18aab7269",
   "metadata": {},
   "outputs": [
    {
     "data": {
      "text/plain": [
       "array([[6.23042070e-307, 4.67296746e-307, 1.69121096e-306,\n",
       "        6.23058707e-307],\n",
       "       [2.22522597e-306, 1.33511969e-306, 1.37962320e-306,\n",
       "        9.34604358e-307],\n",
       "       [9.79101082e-307, 1.78020576e-306, 1.69119873e-306,\n",
       "        2.22522868e-306],\n",
       "       [1.24611809e-306, 8.06632139e-308, 1.60221208e-306,\n",
       "        2.29178686e-312]])"
      ]
     },
     "execution_count": 32,
     "metadata": {},
     "output_type": "execute_result"
    }
   ],
   "source": [
    "np.empty((4,4),dtype = float)"
   ]
  },
  {
   "cell_type": "markdown",
   "id": "5bb2970e-d334-4ce6-9c68-3f4f349cf04a",
   "metadata": {},
   "source": [
    "np.ones((rows, cols), dtype)"
   ]
  },
  {
   "cell_type": "code",
   "execution_count": 38,
   "id": "ac33f7b2-23e7-47e0-a6df-7433248a5cbb",
   "metadata": {},
   "outputs": [
    {
     "data": {
      "text/plain": [
       "array([1., 1., 1.])"
      ]
     },
     "execution_count": 38,
     "metadata": {},
     "output_type": "execute_result"
    }
   ],
   "source": [
    "x = np.ones(3)\n",
    "x"
   ]
  },
  {
   "cell_type": "code",
   "execution_count": 40,
   "id": "2e38d23b-298d-4fcc-9d95-8f7663bdf677",
   "metadata": {},
   "outputs": [
    {
     "data": {
      "text/plain": [
       "array([[1., 1.],\n",
       "       [1., 1.],\n",
       "       [1., 1.]])"
      ]
     },
     "execution_count": 40,
     "metadata": {},
     "output_type": "execute_result"
    }
   ],
   "source": [
    "y = np.ones((3,2))\n",
    "y"
   ]
  },
  {
   "cell_type": "code",
   "execution_count": 41,
   "id": "8843bcbd-f57c-4c28-bcbe-6209a5fc52dc",
   "metadata": {},
   "outputs": [
    {
     "name": "stdout",
     "output_type": "stream",
     "text": [
      "[[1 1 1 1]\n",
      " [1 1 1 1]]\n"
     ]
    }
   ],
   "source": [
    "x = np.ones((2,4), dtype = int)\n",
    "print(x)"
   ]
  },
  {
   "cell_type": "code",
   "execution_count": 47,
   "id": "4dffb0e6-948c-46ce-bd8c-776e3a5b78b0",
   "metadata": {},
   "outputs": [
    {
     "name": "stdout",
     "output_type": "stream",
     "text": [
      "[['1' '1' '1' '1']\n",
      " ['1' '1' '1' '1']]\n"
     ]
    }
   ],
   "source": [
    "x = np.ones((2,4), dtype = str)\n",
    "print(x)"
   ]
  },
  {
   "cell_type": "code",
   "execution_count": 48,
   "id": "dbd878c9-8b0b-408c-973c-e0438cf65ca0",
   "metadata": {},
   "outputs": [
    {
     "name": "stdout",
     "output_type": "stream",
     "text": [
      "[[ True  True  True  True]\n",
      " [ True  True  True  True]]\n"
     ]
    }
   ],
   "source": [
    "x = np.ones((2,4), dtype = bool)\n",
    "print(x)"
   ]
  },
  {
   "cell_type": "markdown",
   "id": "facb9068-5539-4c91-ac50-52beb22b8c9f",
   "metadata": {},
   "source": [
    "# np.zeros((rows, cols), dtype)"
   ]
  },
  {
   "cell_type": "code",
   "execution_count": 43,
   "id": "7e5c25ea-64eb-4b54-9494-db164c56e0b0",
   "metadata": {},
   "outputs": [
    {
     "data": {
      "text/plain": [
       "array([0., 0., 0., 0.])"
      ]
     },
     "execution_count": 43,
     "metadata": {},
     "output_type": "execute_result"
    }
   ],
   "source": [
    "x = np.zeros(4)\n",
    "x"
   ]
  },
  {
   "cell_type": "code",
   "execution_count": 44,
   "id": "1a366233-2e34-4237-bb49-b90943ab15ee",
   "metadata": {},
   "outputs": [
    {
     "data": {
      "text/plain": [
       "array([[0., 0., 0.],\n",
       "       [0., 0., 0.]])"
      ]
     },
     "execution_count": 44,
     "metadata": {},
     "output_type": "execute_result"
    }
   ],
   "source": [
    "y = np.zeros((2,3))\n",
    "y"
   ]
  },
  {
   "cell_type": "code",
   "execution_count": 46,
   "id": "52c6bcb5-39e2-42d5-bfc0-b4ba0b944d70",
   "metadata": {},
   "outputs": [
    {
     "data": {
      "text/plain": [
       "array([[0, 0],\n",
       "       [0, 0],\n",
       "       [0, 0]])"
      ]
     },
     "execution_count": 46,
     "metadata": {},
     "output_type": "execute_result"
    }
   ],
   "source": [
    "z = np.zeros((3,2), dtype = int)\n",
    "z"
   ]
  },
  {
   "cell_type": "code",
   "execution_count": 49,
   "id": "59d79d85-a557-44f1-aea1-4a3f141ec965",
   "metadata": {},
   "outputs": [
    {
     "name": "stdout",
     "output_type": "stream",
     "text": [
      "[['' '' '' '']\n",
      " ['' '' '' '']]\n"
     ]
    }
   ],
   "source": [
    "x = np.zeros((2,4), dtype = str)\n",
    "print(x)"
   ]
  },
  {
   "cell_type": "code",
   "execution_count": 50,
   "id": "2988709d-6888-4c3f-be7f-88d2adc8b297",
   "metadata": {},
   "outputs": [
    {
     "name": "stdout",
     "output_type": "stream",
     "text": [
      "[[False False False False]\n",
      " [False False False False]]\n"
     ]
    }
   ],
   "source": [
    "x = np.zeros((2,4), dtype = bool)\n",
    "print(x)"
   ]
  }
 ],
 "metadata": {
  "kernelspec": {
   "display_name": "Python 3 (ipykernel)",
   "language": "python",
   "name": "python3"
  },
  "language_info": {
   "codemirror_mode": {
    "name": "ipython",
    "version": 3
   },
   "file_extension": ".py",
   "mimetype": "text/x-python",
   "name": "python",
   "nbconvert_exporter": "python",
   "pygments_lexer": "ipython3",
   "version": "3.12.4"
  }
 },
 "nbformat": 4,
 "nbformat_minor": 5
}
